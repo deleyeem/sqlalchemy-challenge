%matplotlib inline
from matplotlib import style
style.use('fivethirtyeight')
import matplotlib.pyplot as plt


import numpy as np
import pandas as pd
import datetime as dt
##
from datetime import datetime, timedelta


# Python SQL toolkit and Object Relational Mapper
import sqlalchemy
from sqlalchemy.ext.automap import automap_base
from sqlalchemy.orm import Session
from sqlalchemy import create_engine, func
from sqlalchemy import create_engine, inspect ### can you add inspect to line above?


# create engine to hawaii.sqlite
engine = create_engine("sqlite:///Resources/hawaii.sqlite")
conn = engine.connect()


# Create our session (link) from Python to the DB
session = Session(engine)


# reflect an existing database into a new model
Base = automap_base()

# reflect the tables
Base.prepare(autoload_with=engine)


# View all of the classes that automap found
Base.classes.keys()


# Save references to each table
station = Base.classes.station
measurement = Base.classes.measurement


most_recent_date = session.query(func.max(measurement.date)).first()
most_recent_date


prev_year = dt.date(2017,8,23)-dt.timedelta(days=365)
results =session.query(measurement.date, measurement.prcp).filter(measurement.date > prev_year).all()
df = pd.DataFrame(results,columns=['date','precipitation'])
df = df.sort_values("date")


df.plot(x="date",y="precipitation",rot=90)
plt.xlabel("Date")
plt.ylabel("Inches")



