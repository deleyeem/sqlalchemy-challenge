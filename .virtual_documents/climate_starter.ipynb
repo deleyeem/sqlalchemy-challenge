%matplotlib inline
from matplotlib import style
style.use('fivethirtyeight')
import matplotlib.pyplot as plt


import numpy as np
import pandas as pd
import datetime as dt
##
from datetime import datetime, timedelta





# Python SQL toolkit and Object Relational Mapper
import sqlalchemy
from sqlalchemy.ext.automap import automap_base
from sqlalchemy.orm import Session
from sqlalchemy import create_engine, func
from sqlalchemy import create_engine, inspect ### can you add inspect to line above?


# create engine to hawaii.sqlite
engine = create_engine("sqlite:///Resources/hawaii.sqlite")
conn = engine.connect()


# Create our session (link) from Python to the DB
session = Session(engine)


# reflect an existing database into a new model
Base = automap_base()

# reflect the tables
Base.prepare(autoload_with=engine)


# View all of the classes that automap found
Base.classes.keys()


# Save references to each table
station = Base.classes.station
measurement = Base.classes.measurement


# Create the inspector and connect it to the engine
inspector = inspect(engine)

# Inspect to see station column names and types
columns = inspector.get_columns('station')
print("station table column names and type:")
for column in columns:
    print(column["name"], column["type"])


# Inspect to see measurement column names and types
columns = inspector.get_columns('measurement')
print("measurement table column names and type:")
for column in columns:
    print(column["name"], column["type"])


# preview first 5 rows for station
station_df = pd.read_sql_table("station", conn)
station_df.head()


# preview first 5 rows for measurements
measurement_df = pd.read_sql_table("measurement", conn)
measurement_df.sort_values(by="date", ascending= False).head()





# Find the most recent date in the data set.
last_date_row = session.query(measurement.date).\
                    order_by(measurement.date.desc()).first()
last_date = last_date_row[0]
print(last_date)


last_date_dt = datetime.strptime(last_date, "%Y-%m-%d")
last_12_months = last_date_dt - dt.timedelta(days=365)
# last_12_months = datetime.strptime(last_12_months, "%Y-%m-%d")


# Perform a query to retrieve the data and precipitation scores
precip_query = session.query(measurement.date, measurement.prcp)
#                 filter(measurement.date > "2016-08-23").all()
# pd.DataFrame(precip_query)
precip_query.filter(measurement.date < "2010-01-05").all()


precip_query


# Design a query to retrieve the last 12 months of precipitation data and plot the results. 
# Starting from the most recent data point in the database. 

# Calculate the date one year from the last date in data set.
# Date is a text not datetime so convert first.

last_date_dt = datetime.strptime(last_date, "%Y-%m-%d")
last_12_months = last_date_dt - dt.timedelta(days=365)

# Perform a query to retrieve the data and precipitation scores
precip_query = session.query(measurement.date, measurement.prcp).\
                filter(measurement.date > last_12_months).all()
    
# Save the query results as a Pandas DataFrame. Explicitly set the column names
precip_df = pd.DataFrame(precip_query).rename(columns={
            'prcp': 'precipitation'
            })

# Sort the dataframe by date
precip_df = precip_df.groupby("date").sum("precipitation").sort_values(by="date", ascending= False)

# Use Pandas Plotting with Matplotlib to plot the data
precip_df.plot(kind='bar', color='blue', alpha=0.55, rot=90)
plt.xlabel("Date")
plt.ylabel("Precipitation")
plt.title("Precipitation Data")
plt.tight_layout()
plt.show()


precip_df


# Use Pandas to calculate the summary statistics for the precipitation data
precip_stats = round(precip_df.describe(),2)

#print
precip_stats





# Design a query to calculate the total number of stations in the dataset
tot_stations = session.query(station.station).distinct().count()
print(tot_stations)


# Design a query to find the most active stations (i.e. which stations have the most rows?)
# List the stations and their counts in descending order.
## session.query(measurement.station, measurement.station.count()).\
##         sort_by(by = measurement.station.count(), ascending=False)

# Query to count occurrences of each station and sort by this count in descending order
station_counts = session.query(measurement.station, 
    func.count(measurement.station).label('total')).group_by(measurement.station).\
    order_by(func.count(measurement.station).desc())

# Print each station and its count
for station, count in station_counts:
    print(station, count)
    most_active_station = station[0]


# Using the most active station id from the previous query, calculate the lowest, highest, and average temperature.
most_active_station = station_counts[0][0]

temp_data = session.query(func.min(measurement.tobs), func.max(measurement.tobs), func.avg(measurement.tobs)).filter_by(station = most_active_station)

for x in temp_data:
    print(x)


# Using the most active station id
# Query the last 12 months of temperature observation data for this station and plot the results as a histogram

# Perform a query to retrieve the data and precipitation scores
temp_query = session.query(measurement.date, measurement.tobs).\
                filter(measurement.date > last_12_months).\
                filter(measurement.station == most_active_station)
    
# Save the query results as a Pandas DataFrame. Sort the dataframe by date
temp_df = pd.DataFrame(temp_query, columns=['date', 'temperature'])
temp_df.sort_values(by='date', inplace=True)

# Use Pandas Plotting with Matplotlib to plot the data
temp_df.plot(kind='hist', bins=12, color='deepskyblue', alpha=0.80)
plt.xlabel("Temperature")
plt.ylabel("Frequency")
plt.title(f"Station {most_active_station} Temperature (Last 12 Months)")

# Adding a note to the figure
plt.text(1, -0.3, 'Note: Histogram shows the frequency of temperature collections from the most active station.',
         verticalalignment='bottom', horizontalalignment='right',
         transform=plt.gca().transAxes, # This ensures the text is placed relative to the axes
         color='grey', fontsize=8)

plt.tight_layout()
plt.show()

#bins=12





# Close Session
session.close()
